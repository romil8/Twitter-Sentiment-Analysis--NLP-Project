{
 "cells": [
  {
   "cell_type": "code",
   "execution_count": 65,
   "metadata": {},
   "outputs": [],
   "source": [
    "#Import libraires\n",
    "import spacy\n",
    "import gensim\n",
    "import nltk\n",
    "import re\n",
    "import pandas as pd\n",
    "import numpy as np\n",
    "import matplotlib.pyplot as plt\n",
    "from pprint import pprint\n",
    "import gensim.corpora as corpora\n",
    "from gensim.utils import simple_preprocess\n",
    "from gensim.models import CoherenceModel\n",
    "import logging\n",
    "logging.basicConfig(format='%(asctime)s : %(levelname)s : %(message)s', level=logging.ERROR)\n",
    "import warnings\n",
    "warnings.filterwarnings(\"ignore\")\n",
    "import pyLDAvis\n",
    "import pyLDAvis.gensim\n",
    "import string\n",
    "from nltk.corpus import stopwords\n",
    "from nltk.stem.wordnet import WordNetLemmatizer\n",
    "from sklearn.naive_bayes import MultinomialNB\n",
    "from sklearn.svm import LinearSVC\n",
    "from sklearn.model_selection import train_test_split as tts, RandomizedSearchCV\n",
    "from sklearn.feature_extraction.text import TfidfVectorizer\n",
    "from sklearn.feature_extraction.text import CountVectorizer\n",
    "from sklearn.metrics import accuracy_score, classification_report\n",
    "from imblearn.over_sampling import SMOTE\n",
    "from sklearn.svm import SVC\n",
    "from sklearn.model_selection import cross_val_score\n",
    "from gensim.models import Word2Vec\n",
    "from sklearn.metrics import f1_score\n",
    "from sklearn.ensemble import VotingClassifier\n",
    "from sklearn.ensemble import RandomForestClassifier\n",
    "from xgboost import XGBClassifier"
   ]
  },
  {
   "cell_type": "code",
   "execution_count": 2,
   "metadata": {},
   "outputs": [
    {
     "data": {
      "text/html": [
       "<div>\n",
       "<style scoped>\n",
       "    .dataframe tbody tr th:only-of-type {\n",
       "        vertical-align: middle;\n",
       "    }\n",
       "\n",
       "    .dataframe tbody tr th {\n",
       "        vertical-align: top;\n",
       "    }\n",
       "\n",
       "    .dataframe thead th {\n",
       "        text-align: right;\n",
       "    }\n",
       "</style>\n",
       "<table border=\"1\" class=\"dataframe\">\n",
       "  <thead>\n",
       "    <tr style=\"text-align: right;\">\n",
       "      <th></th>\n",
       "      <th>tweet_id</th>\n",
       "      <th>sentiment</th>\n",
       "      <th>tokenized_text</th>\n",
       "    </tr>\n",
       "  </thead>\n",
       "  <tbody>\n",
       "    <tr>\n",
       "      <th>0</th>\n",
       "      <td>1701</td>\n",
       "      <td>1</td>\n",
       "      <td>defining language of touch with different dial...</td>\n",
       "    </tr>\n",
       "    <tr>\n",
       "      <th>1</th>\n",
       "      <td>1851</td>\n",
       "      <td>1</td>\n",
       "      <td>learning ab doodle all doodle should be light ...</td>\n",
       "    </tr>\n",
       "    <tr>\n",
       "      <th>2</th>\n",
       "      <td>2689</td>\n",
       "      <td>2</td>\n",
       "      <td>one of the most in-your-face ex of stealing th...</td>\n",
       "    </tr>\n",
       "    <tr>\n",
       "      <th>3</th>\n",
       "      <td>4525</td>\n",
       "      <td>0</td>\n",
       "      <td>this would b pretty awesome if it did n't cras...</td>\n",
       "    </tr>\n",
       "    <tr>\n",
       "      <th>4</th>\n",
       "      <td>3604</td>\n",
       "      <td>1</td>\n",
       "      <td>outside the waiting for the</td>\n",
       "    </tr>\n",
       "  </tbody>\n",
       "</table>\n",
       "</div>"
      ],
      "text/plain": [
       "   tweet_id  sentiment                                     tokenized_text\n",
       "0      1701          1  defining language of touch with different dial...\n",
       "1      1851          1  learning ab doodle all doodle should be light ...\n",
       "2      2689          2  one of the most in-your-face ex of stealing th...\n",
       "3      4525          0  this would b pretty awesome if it did n't cras...\n",
       "4      3604          1                        outside the waiting for the"
      ]
     },
     "execution_count": 2,
     "metadata": {},
     "output_type": "execute_result"
    }
   ],
   "source": [
    "#Load and view dataset\n",
    "df = pd.read_csv('clean_train4.csv')\n",
    "df.head()"
   ]
  },
  {
   "cell_type": "code",
   "execution_count": 3,
   "metadata": {},
   "outputs": [],
   "source": [
    "#Drop null values\n",
    "df = df.replace(np.nan, '')"
   ]
  },
  {
   "cell_type": "code",
   "execution_count": 4,
   "metadata": {},
   "outputs": [],
   "source": [
    "#Load hastag scores\n",
    "hashtag_score = pd.read_csv('afinn_score.csv')"
   ]
  },
  {
   "cell_type": "code",
   "execution_count": null,
   "metadata": {},
   "outputs": [],
   "source": []
  },
  {
   "cell_type": "code",
   "execution_count": 5,
   "metadata": {},
   "outputs": [],
   "source": [
    "df_new = df.join(hashtag_score)\n",
    "df_new = df_new.replace(np.nan, '')\n",
    "df_new = df_new[df_new['sentiment'] != 3]"
   ]
  },
  {
   "cell_type": "code",
   "execution_count": 6,
   "metadata": {},
   "outputs": [
    {
     "data": {
      "text/plain": [
       "tweet_id          0\n",
       "sentiment         0\n",
       "tokenized_text    0\n",
       "Unnamed: 0        0\n",
       "0                 0\n",
       "hashtags          0\n",
       "dtype: int64"
      ]
     },
     "execution_count": 6,
     "metadata": {},
     "output_type": "execute_result"
    }
   ],
   "source": [
    "df_new.isnull().sum()"
   ]
  },
  {
   "cell_type": "code",
   "execution_count": 7,
   "metadata": {},
   "outputs": [],
   "source": [
    "df_new['tokenized_text'] = df_new['tokenized_text'].replace(np.nan, '')"
   ]
  },
  {
   "cell_type": "code",
   "execution_count": 8,
   "metadata": {},
   "outputs": [],
   "source": [
    "#Split into X and Y\n",
    "X = df_new['tokenized_text']\n",
    "y = df_new['sentiment']"
   ]
  },
  {
   "cell_type": "code",
   "execution_count": 9,
   "metadata": {},
   "outputs": [],
   "source": [
    "#Initialize a tfidf vectorizer\n",
    "cv = CountVectorizer(ngram_range=(1,3), min_df =2)\n",
    "vector = cv.fit_transform(X)\n",
    "X = vector.toarray()"
   ]
  },
  {
   "cell_type": "code",
   "execution_count": 10,
   "metadata": {},
   "outputs": [],
   "source": [
    "#Make a dataframe\n",
    "X_new = pd.DataFrame(X)"
   ]
  },
  {
   "cell_type": "code",
   "execution_count": 11,
   "metadata": {},
   "outputs": [],
   "source": [
    "X_hashtags = np.array(df_new['0'])"
   ]
  },
  {
   "cell_type": "code",
   "execution_count": 12,
   "metadata": {},
   "outputs": [],
   "source": [
    "X_new['Hashtag_score'] = X_hashtags"
   ]
  },
  {
   "cell_type": "code",
   "execution_count": 13,
   "metadata": {},
   "outputs": [],
   "source": [
    "X_new['Hashtag_score'] = X_new['Hashtag_score'].replace('', 0)"
   ]
  },
  {
   "cell_type": "code",
   "execution_count": 14,
   "metadata": {},
   "outputs": [],
   "source": [
    "for x in X_new['Hashtag_score']:\n",
    "    float(x)"
   ]
  },
  {
   "cell_type": "code",
   "execution_count": 15,
   "metadata": {},
   "outputs": [],
   "source": [
    "X_new['Hashtag_score'] = X_new['Hashtag_score'].abs()"
   ]
  },
  {
   "cell_type": "code",
   "execution_count": null,
   "metadata": {},
   "outputs": [],
   "source": []
  },
  {
   "cell_type": "code",
   "execution_count": null,
   "metadata": {},
   "outputs": [],
   "source": []
  },
  {
   "cell_type": "code",
   "execution_count": 16,
   "metadata": {},
   "outputs": [],
   "source": [
    "#ratio to split into training and test set\n",
    "ratio = int(len(df)*0.7)"
   ]
  },
  {
   "cell_type": "code",
   "execution_count": 17,
   "metadata": {},
   "outputs": [],
   "source": [
    "#Split into training and test set\n",
    "X_train, X_test, y_train, y_test = tts(X_new, y, random_state = 42, test_size = .025 )"
   ]
  },
  {
   "cell_type": "code",
   "execution_count": 18,
   "metadata": {},
   "outputs": [],
   "source": [
    "#Initialize MultinomialNB model\n",
    "nb = MultinomialNB(alpha = 0.5)"
   ]
  },
  {
   "cell_type": "code",
   "execution_count": 19,
   "metadata": {},
   "outputs": [],
   "source": [
    "MultinomialNB?"
   ]
  },
  {
   "cell_type": "code",
   "execution_count": 20,
   "metadata": {},
   "outputs": [
    {
     "data": {
      "text/plain": [
       "MultinomialNB(alpha=0.5, class_prior=None, fit_prior=True)"
      ]
     },
     "execution_count": 20,
     "metadata": {},
     "output_type": "execute_result"
    }
   ],
   "source": [
    "#Fit model on training data\n",
    "nb.fit(X_train, y_train)"
   ]
  },
  {
   "cell_type": "code",
   "execution_count": 21,
   "metadata": {},
   "outputs": [],
   "source": [
    "#Make prediction using X_test\n",
    "y_pred_nb = nb.predict(X_test)"
   ]
  },
  {
   "cell_type": "code",
   "execution_count": 22,
   "metadata": {},
   "outputs": [
    {
     "name": "stdout",
     "output_type": "stream",
     "text": [
      "The accuracy score using MultinomialNB model is 0.676.\n",
      "              precision    recall  f1-score   support\n",
      "\n",
      "           0       0.39      0.50      0.44        14\n",
      "           1       0.76      0.68      0.72       102\n",
      "           2       0.64      0.71      0.68        63\n",
      "\n",
      "    accuracy                           0.68       179\n",
      "   macro avg       0.60      0.63      0.61       179\n",
      "weighted avg       0.69      0.68      0.68       179\n",
      "\n"
     ]
    }
   ],
   "source": [
    "#View accuracy metrics\n",
    "accuracy_nb = accuracy_score(y_test, y_pred_nb)\n",
    "print('The accuracy score using MultinomialNB model is {}.'.format(round(accuracy_nb,3)))\n",
    "print(classification_report(y_test, y_pred_nb))"
   ]
  },
  {
   "cell_type": "code",
   "execution_count": 23,
   "metadata": {},
   "outputs": [
    {
     "name": "stdout",
     "output_type": "stream",
     "text": [
      "0.6798280527062294\n"
     ]
    }
   ],
   "source": [
    "print(f1_score(y_test, y_pred_nb, average = 'weighted'))"
   ]
  },
  {
   "cell_type": "code",
   "execution_count": 24,
   "metadata": {},
   "outputs": [],
   "source": [
    "#Initialize LinearSVC\n",
    "svc = LinearSVC(class_weight = 'balanced', random_state = 42, multi_class='crammer_singer')"
   ]
  },
  {
   "cell_type": "code",
   "execution_count": 25,
   "metadata": {},
   "outputs": [
    {
     "data": {
      "text/plain": [
       "LinearSVC(C=1.0, class_weight='balanced', dual=True, fit_intercept=True,\n",
       "          intercept_scaling=1, loss='squared_hinge', max_iter=1000,\n",
       "          multi_class='crammer_singer', penalty='l2', random_state=42,\n",
       "          tol=0.0001, verbose=0)"
      ]
     },
     "execution_count": 25,
     "metadata": {},
     "output_type": "execute_result"
    }
   ],
   "source": [
    "#Fit model on training data\n",
    "svc.fit(X_train, y_train)"
   ]
  },
  {
   "cell_type": "code",
   "execution_count": 26,
   "metadata": {},
   "outputs": [],
   "source": [
    "#Make prediction using X_test\n",
    "y_pred_svc = svc.predict(X_test)"
   ]
  },
  {
   "cell_type": "code",
   "execution_count": 27,
   "metadata": {},
   "outputs": [
    {
     "name": "stdout",
     "output_type": "stream",
     "text": [
      "The accuracy score using LinearSVC model is 0.687.\n",
      "              precision    recall  f1-score   support\n",
      "\n",
      "           0       0.47      0.50      0.48        14\n",
      "           1       0.76      0.73      0.74       102\n",
      "           2       0.64      0.67      0.65        63\n",
      "\n",
      "    accuracy                           0.69       179\n",
      "   macro avg       0.62      0.63      0.62       179\n",
      "weighted avg       0.69      0.69      0.69       179\n",
      "\n"
     ]
    }
   ],
   "source": [
    "#View accuracy metrics\n",
    "accuracy_svc = accuracy_score(y_test, y_pred_svc)\n",
    "print('The accuracy score using LinearSVC model is {}.'.format(round(accuracy_svc,3)))\n",
    "print(classification_report(y_test, y_pred_svc))"
   ]
  },
  {
   "cell_type": "code",
   "execution_count": 28,
   "metadata": {},
   "outputs": [
    {
     "name": "stdout",
     "output_type": "stream",
     "text": [
      "0.6886138352156909\n"
     ]
    }
   ],
   "source": [
    "print(f1_score(y_test, y_pred_svc, average = 'weighted'))"
   ]
  },
  {
   "cell_type": "code",
   "execution_count": 48,
   "metadata": {},
   "outputs": [],
   "source": [
    "rfc = RandomForestClassifier()"
   ]
  },
  {
   "cell_type": "code",
   "execution_count": 73,
   "metadata": {},
   "outputs": [],
   "source": [
    "xgbc = XGBClassifier()"
   ]
  },
  {
   "cell_type": "code",
   "execution_count": null,
   "metadata": {},
   "outputs": [],
   "source": []
  },
  {
   "cell_type": "code",
   "execution_count": null,
   "metadata": {},
   "outputs": [],
   "source": []
  },
  {
   "cell_type": "code",
   "execution_count": null,
   "metadata": {},
   "outputs": [],
   "source": []
  },
  {
   "cell_type": "code",
   "execution_count": 77,
   "metadata": {},
   "outputs": [],
   "source": [
    "Model_List=[('naive bayes', nb),\n",
    "            ('svc', svc),\n",
    "           ('rfc', rfc),\n",
    "           ('xgb', xgbc)]"
   ]
  },
  {
   "cell_type": "code",
   "execution_count": 78,
   "metadata": {},
   "outputs": [],
   "source": [
    "voting_clf_soft = VotingClassifier(estimators = Model_List, voting = 'hard')"
   ]
  },
  {
   "cell_type": "code",
   "execution_count": null,
   "metadata": {},
   "outputs": [],
   "source": [
    "voting_clf_soft.fit(X_train, y_train)"
   ]
  },
  {
   "cell_type": "code",
   "execution_count": null,
   "metadata": {},
   "outputs": [],
   "source": [
    "y_pred_vc = voting_clf_soft.predict(X_test)\n",
    "accuracy_vc = accuracy_score(y_test, y_pred_vc)\n",
    "print(accuracy_vc)\n",
    "print(classification_report(y_test, y_pred_vc))"
   ]
  },
  {
   "cell_type": "code",
   "execution_count": null,
   "metadata": {},
   "outputs": [],
   "source": [
    "print(f1_score(y_test, y_pred_vc, average = 'weighted'))"
   ]
  },
  {
   "cell_type": "code",
   "execution_count": 272,
   "metadata": {},
   "outputs": [],
   "source": [
    "svc2 = SVC(class_weight = 'balanced')"
   ]
  },
  {
   "cell_type": "code",
   "execution_count": null,
   "metadata": {},
   "outputs": [],
   "source": [
    "svc2.fit(X_train, y_train)"
   ]
  },
  {
   "cell_type": "code",
   "execution_count": null,
   "metadata": {},
   "outputs": [],
   "source": [
    "#Make prediction using X_test\n",
    "y_pred_svc2 = svc.predict(X_test)"
   ]
  },
  {
   "cell_type": "code",
   "execution_count": null,
   "metadata": {},
   "outputs": [],
   "source": [
    "#View accuracy metrics\n",
    "accuracy_svc2 = accuracy_score(y_test, y_pred_svc2)\n",
    "print('The accuracy score using LinearSVC model is {}.'.format(round(accuracy_svc2,3)))\n",
    "print(classification_report(y_test, y_pred_svc2))"
   ]
  },
  {
   "cell_type": "code",
   "execution_count": null,
   "metadata": {},
   "outputs": [],
   "source": [
    "print(f1_score(y_test, y_pred_svc2, average = 'weighted'))"
   ]
  },
  {
   "cell_type": "code",
   "execution_count": null,
   "metadata": {},
   "outputs": [],
   "source": []
  },
  {
   "cell_type": "code",
   "execution_count": 54,
   "metadata": {},
   "outputs": [],
   "source": [
    "#Load test set\n",
    "test = pd.read_csv('clean_test2.csv')\n",
    "test.head()\n",
    "hashtag_test = pd.read_csv('afinn_score_test.csv')"
   ]
  },
  {
   "cell_type": "code",
   "execution_count": 55,
   "metadata": {},
   "outputs": [],
   "source": [
    "test_new = test.join(hashtag_test)"
   ]
  },
  {
   "cell_type": "code",
   "execution_count": 56,
   "metadata": {},
   "outputs": [
    {
     "data": {
      "text/html": [
       "<div>\n",
       "<style scoped>\n",
       "    .dataframe tbody tr th:only-of-type {\n",
       "        vertical-align: middle;\n",
       "    }\n",
       "\n",
       "    .dataframe tbody tr th {\n",
       "        vertical-align: top;\n",
       "    }\n",
       "\n",
       "    .dataframe thead th {\n",
       "        text-align: right;\n",
       "    }\n",
       "</style>\n",
       "<table border=\"1\" class=\"dataframe\">\n",
       "  <thead>\n",
       "    <tr style=\"text-align: right;\">\n",
       "      <th></th>\n",
       "      <th>tweet_id</th>\n",
       "      <th>tokenized_text</th>\n",
       "      <th>Unnamed: 0</th>\n",
       "      <th>0</th>\n",
       "      <th>hashtags</th>\n",
       "    </tr>\n",
       "  </thead>\n",
       "  <tbody>\n",
       "    <tr>\n",
       "      <th>0</th>\n",
       "      <td>7506</td>\n",
       "      <td>audience q what prototyping tool do you use sk...</td>\n",
       "      <td>0</td>\n",
       "      <td>0.0</td>\n",
       "      <td>myprototype sxsw</td>\n",
       "    </tr>\n",
       "    <tr>\n",
       "      <th>1</th>\n",
       "      <td>7992</td>\n",
       "      <td>at send your best to ...</td>\n",
       "      <td>1</td>\n",
       "      <td>0.0</td>\n",
       "      <td>citizen_journalism cnn ireport photography sxs...</td>\n",
       "    </tr>\n",
       "    <tr>\n",
       "      <th>2</th>\n",
       "      <td>247</td>\n",
       "      <td>and here a pic of you winning your cc cont</td>\n",
       "      <td>2</td>\n",
       "      <td>0.0</td>\n",
       "      <td>unsix sxsw</td>\n",
       "    </tr>\n",
       "    <tr>\n",
       "      <th>3</th>\n",
       "      <td>7688</td>\n",
       "      <td>marissa mayer phone a a cursor of physical loc...</td>\n",
       "      <td>3</td>\n",
       "      <td>0.0</td>\n",
       "      <td>sxsw</td>\n",
       "    </tr>\n",
       "    <tr>\n",
       "      <th>4</th>\n",
       "      <td>3294</td>\n",
       "      <td>is even cooler than i thought</td>\n",
       "      <td>4</td>\n",
       "      <td>0.0</td>\n",
       "      <td>SXSW</td>\n",
       "    </tr>\n",
       "    <tr>\n",
       "      <th>5</th>\n",
       "      <td>6125</td>\n",
       "      <td>front of popup at last night</td>\n",
       "      <td>5</td>\n",
       "      <td>0.0</td>\n",
       "      <td>SXSW</td>\n",
       "    </tr>\n",
       "    <tr>\n",
       "      <th>6</th>\n",
       "      <td>6131</td>\n",
       "      <td>my next life i 'm coming back a an 2. woman ca...</td>\n",
       "      <td>6</td>\n",
       "      <td>0.0</td>\n",
       "      <td>SXSW</td>\n",
       "    </tr>\n",
       "    <tr>\n",
       "      <th>7</th>\n",
       "      <td>4134</td>\n",
       "      <td>celebrating pi day style at</td>\n",
       "      <td>7</td>\n",
       "      <td>0.0</td>\n",
       "      <td>SXSW</td>\n",
       "    </tr>\n",
       "    <tr>\n",
       "      <th>8</th>\n",
       "      <td>8206</td>\n",
       "      <td>hmmm is it a bit weird that is not tending but...</td>\n",
       "      <td>8</td>\n",
       "      <td>0.0</td>\n",
       "      <td>sxsw</td>\n",
       "    </tr>\n",
       "    <tr>\n",
       "      <th>9</th>\n",
       "      <td>8552</td>\n",
       "      <td>to 'circles later today at got ta love one pla...</td>\n",
       "      <td>9</td>\n",
       "      <td>0.0</td>\n",
       "      <td>SXSW SXSW</td>\n",
       "    </tr>\n",
       "    <tr>\n",
       "      <th>10</th>\n",
       "      <td>1634</td>\n",
       "      <td>thank you all for retweeting me about the re t...</td>\n",
       "      <td>10</td>\n",
       "      <td>0.0</td>\n",
       "      <td>sxsw</td>\n",
       "    </tr>\n",
       "    <tr>\n",
       "      <th>11</th>\n",
       "      <td>4256</td>\n",
       "      <td>well.. i 'm first 10.5 hour to go</td>\n",
       "      <td>11</td>\n",
       "      <td>0.0</td>\n",
       "      <td>iPad Apple SXSW sleepy</td>\n",
       "    </tr>\n",
       "    <tr>\n",
       "      <th>12</th>\n",
       "      <td>4921</td>\n",
       "      <td>z1 dawn of the dead code valid 12:00-3:59:59p ...</td>\n",
       "      <td>12</td>\n",
       "      <td>0.0</td>\n",
       "      <td>infektd sxsw zlf</td>\n",
       "    </tr>\n",
       "    <tr>\n",
       "      <th>13</th>\n",
       "      <td>1694</td>\n",
       "      <td>with listening to and talk about website ranki...</td>\n",
       "      <td>13</td>\n",
       "      <td>0.0</td>\n",
       "      <td>qagb sxswi sxsw google bing</td>\n",
       "    </tr>\n",
       "    <tr>\n",
       "      <th>14</th>\n",
       "      <td>4193</td>\n",
       "      <td>hearing all sort of conflicting report about l...</td>\n",
       "      <td>14</td>\n",
       "      <td>0.0</td>\n",
       "      <td>SXSW</td>\n",
       "    </tr>\n",
       "    <tr>\n",
       "      <th>15</th>\n",
       "      <td>7682</td>\n",
       "      <td>the is celebrating with pecan and strawberry r...</td>\n",
       "      <td>15</td>\n",
       "      <td>0.0</td>\n",
       "      <td>CNNGrill piday SXSW SXSWI</td>\n",
       "    </tr>\n",
       "    <tr>\n",
       "      <th>16</th>\n",
       "      <td>8151</td>\n",
       "      <td>is getting it own the geek cried yes the 2 is ...</td>\n",
       "      <td>16</td>\n",
       "      <td>0.0</td>\n",
       "      <td>sxsw</td>\n",
       "    </tr>\n",
       "    <tr>\n",
       "      <th>17</th>\n",
       "      <td>1274</td>\n",
       "      <td>ha two store but until this week no downtown p...</td>\n",
       "      <td>17</td>\n",
       "      <td>0.0</td>\n",
       "      <td>sxsw pcbuzz</td>\n",
       "    </tr>\n",
       "    <tr>\n",
       "      <th>18</th>\n",
       "      <td>5868</td>\n",
       "      <td>to major new called gt update no preview plann...</td>\n",
       "      <td>18</td>\n",
       "      <td>0.0</td>\n",
       "      <td>Circles SXSW</td>\n",
       "    </tr>\n",
       "    <tr>\n",
       "      <th>19</th>\n",
       "      <td>3327</td>\n",
       "      <td>and teamed up 4 showdown at w/ 14 team of maki...</td>\n",
       "      <td>19</td>\n",
       "      <td>0.0</td>\n",
       "      <td>SXSW bots gsdm</td>\n",
       "    </tr>\n",
       "    <tr>\n",
       "      <th>20</th>\n",
       "      <td>12</td>\n",
       "      <td>ups the game just time for http //j.mp/grn7pk ...</td>\n",
       "      <td>20</td>\n",
       "      <td>0.0</td>\n",
       "      <td>SXSW</td>\n",
       "    </tr>\n",
       "    <tr>\n",
       "      <th>21</th>\n",
       "      <td>5839</td>\n",
       "      <td>launch people finder service after earthquake ...</td>\n",
       "      <td>21</td>\n",
       "      <td>0.0</td>\n",
       "      <td>WSsxsw sxsw scrm</td>\n",
       "    </tr>\n",
       "    <tr>\n",
       "      <th>22</th>\n",
       "      <td>5562</td>\n",
       "      <td>best thing i 've heard this weekend at quot i ...</td>\n",
       "      <td>22</td>\n",
       "      <td>0.0</td>\n",
       "      <td>SXSW Japan</td>\n",
       "    </tr>\n",
       "    <tr>\n",
       "      <th>23</th>\n",
       "      <td>2959</td>\n",
       "      <td>wew new for now the includes uberguide to spon...</td>\n",
       "      <td>23</td>\n",
       "      <td>0.0</td>\n",
       "      <td>UberSocial iPhone SXSW</td>\n",
       "    </tr>\n",
       "    <tr>\n",
       "      <th>24</th>\n",
       "      <td>8940</td>\n",
       "      <td>leaving excellent panel from on writing compel...</td>\n",
       "      <td>24</td>\n",
       "      <td>0.0</td>\n",
       "      <td>SXSW</td>\n",
       "    </tr>\n",
       "    <tr>\n",
       "      <th>25</th>\n",
       "      <td>1995</td>\n",
       "      <td>wa he standing talented ... eww lol just saw a...</td>\n",
       "      <td>25</td>\n",
       "      <td>0.0</td>\n",
       "      <td>sxsw</td>\n",
       "    </tr>\n",
       "    <tr>\n",
       "      <th>26</th>\n",
       "      <td>607</td>\n",
       "      <td>ha an something called place with hotpot that ...</td>\n",
       "      <td>26</td>\n",
       "      <td>0.0</td>\n",
       "      <td>SxSW</td>\n",
       "    </tr>\n",
       "    <tr>\n",
       "      <th>27</th>\n",
       "      <td>7364</td>\n",
       "      <td>opening a temporary downtown to sell ipads dur...</td>\n",
       "      <td>27</td>\n",
       "      <td>0.0</td>\n",
       "      <td>sxsw</td>\n",
       "    </tr>\n",
       "    <tr>\n",
       "      <th>28</th>\n",
       "      <td>8167</td>\n",
       "      <td>hanging out with at the industry party ... goo...</td>\n",
       "      <td>28</td>\n",
       "      <td>0.0</td>\n",
       "      <td>madmen google sxsw</td>\n",
       "    </tr>\n",
       "    <tr>\n",
       "      <th>29</th>\n",
       "      <td>681</td>\n",
       "      <td>rockin an 2 from the downtown</td>\n",
       "      <td>29</td>\n",
       "      <td>0.0</td>\n",
       "      <td>SXSW apple</td>\n",
       "    </tr>\n",
       "    <tr>\n",
       "      <th>...</th>\n",
       "      <td>...</td>\n",
       "      <td>...</td>\n",
       "      <td>...</td>\n",
       "      <td>...</td>\n",
       "      <td>...</td>\n",
       "    </tr>\n",
       "    <tr>\n",
       "      <th>1789</th>\n",
       "      <td>3798</td>\n",
       "      <td>woman on plane next to me ha a nook curve and ...</td>\n",
       "      <td>1789</td>\n",
       "      <td>0.0</td>\n",
       "      <td>sxsw</td>\n",
       "    </tr>\n",
       "    <tr>\n",
       "      <th>1790</th>\n",
       "      <td>2587</td>\n",
       "      <td>taking the 2 plunge at the pop-up on congress</td>\n",
       "      <td>1790</td>\n",
       "      <td>0.0</td>\n",
       "      <td>iPad SXSW keepingupwithDKM</td>\n",
       "    </tr>\n",
       "    <tr>\n",
       "      <th>1791</th>\n",
       "      <td>6709</td>\n",
       "      <td>temp is killing it selling out early every day</td>\n",
       "      <td>1791</td>\n",
       "      <td>0.0</td>\n",
       "      <td>sxsw</td>\n",
       "    </tr>\n",
       "    <tr>\n",
       "      <th>1792</th>\n",
       "      <td>1731</td>\n",
       "      <td>who at that can a 64gb 2 with 3g i 'll paypal ...</td>\n",
       "      <td>1792</td>\n",
       "      <td>0.0</td>\n",
       "      <td>sxsw</td>\n",
       "    </tr>\n",
       "    <tr>\n",
       "      <th>1793</th>\n",
       "      <td>8690</td>\n",
       "      <td>popup still the block</td>\n",
       "      <td>1793</td>\n",
       "      <td>0.0</td>\n",
       "      <td>sxsw</td>\n",
       "    </tr>\n",
       "    <tr>\n",
       "      <th>1794</th>\n",
       "      <td>788</td>\n",
       "      <td>to major new called possibly today gt gt shoul...</td>\n",
       "      <td>1794</td>\n",
       "      <td>0.0</td>\n",
       "      <td>sxsw</td>\n",
       "    </tr>\n",
       "    <tr>\n",
       "      <th>1795</th>\n",
       "      <td>3874</td>\n",
       "      <td>is talking about how phone earth is empowering...</td>\n",
       "      <td>1795</td>\n",
       "      <td>0.0</td>\n",
       "      <td>SXSW</td>\n",
       "    </tr>\n",
       "    <tr>\n",
       "      <th>1796</th>\n",
       "      <td>8575</td>\n",
       "      <td>my story on schooling the exec at with it pop-up</td>\n",
       "      <td>1796</td>\n",
       "      <td>0.0</td>\n",
       "      <td>SXSW iPad2</td>\n",
       "    </tr>\n",
       "    <tr>\n",
       "      <th>1797</th>\n",
       "      <td>8243</td>\n",
       "      <td>happy that i won an 2 at but wishing i had it ...</td>\n",
       "      <td>1797</td>\n",
       "      <td>0.0</td>\n",
       "      <td>drupalcon firstworldproblems sxsw</td>\n",
       "    </tr>\n",
       "    <tr>\n",
       "      <th>1798</th>\n",
       "      <td>610</td>\n",
       "      <td>what if i have bb discriminatory p we 're offi...</td>\n",
       "      <td>1798</td>\n",
       "      <td>0.0</td>\n",
       "      <td>SXSW</td>\n",
       "    </tr>\n",
       "    <tr>\n",
       "      <th>1799</th>\n",
       "      <td>4876</td>\n",
       "      <td>excited to tell y'all about the wonder of toda...</td>\n",
       "      <td>1799</td>\n",
       "      <td>0.0</td>\n",
       "      <td>sxsw</td>\n",
       "    </tr>\n",
       "    <tr>\n",
       "      <th>1800</th>\n",
       "      <td>2805</td>\n",
       "      <td>quot and are our biggest competitors. quot sai...</td>\n",
       "      <td>1800</td>\n",
       "      <td>0.0</td>\n",
       "      <td>4sq sxsw eurosxsw</td>\n",
       "    </tr>\n",
       "    <tr>\n",
       "      <th>1801</th>\n",
       "      <td>4884</td>\n",
       "      <td>two-factor auth is awesome when you 're using ...</td>\n",
       "      <td>1801</td>\n",
       "      <td>0.0</td>\n",
       "      <td>SXSW</td>\n",
       "    </tr>\n",
       "    <tr>\n",
       "      <th>1802</th>\n",
       "      <td>5194</td>\n",
       "      <td>quot the name wa built on getting thing out th...</td>\n",
       "      <td>1802</td>\n",
       "      <td>0.0</td>\n",
       "      <td>sxsw</td>\n",
       "    </tr>\n",
       "    <tr>\n",
       "      <th>1803</th>\n",
       "      <td>2077</td>\n",
       "      <td>police guard 2 at</td>\n",
       "      <td>1803</td>\n",
       "      <td>0.0</td>\n",
       "      <td>sxsw iPad</td>\n",
       "    </tr>\n",
       "    <tr>\n",
       "      <th>1804</th>\n",
       "      <td>8244</td>\n",
       "      <td>sitting at ihop drooling over the it doe every...</td>\n",
       "      <td>1804</td>\n",
       "      <td>0.0</td>\n",
       "      <td>sxsw</td>\n",
       "    </tr>\n",
       "    <tr>\n",
       "      <th>1805</th>\n",
       "      <td>1782</td>\n",
       "      <td>the 2 is all the buzz at 2011 via</td>\n",
       "      <td>1805</td>\n",
       "      <td>0.0</td>\n",
       "      <td>SXSW apple tablet marketing advertising ipod</td>\n",
       "    </tr>\n",
       "    <tr>\n",
       "      <th>1806</th>\n",
       "      <td>8177</td>\n",
       "      <td>jaysis whoa at the pop up downtown</td>\n",
       "      <td>1806</td>\n",
       "      <td>0.0</td>\n",
       "      <td>sxsw</td>\n",
       "    </tr>\n",
       "    <tr>\n",
       "      <th>1807</th>\n",
       "      <td>3223</td>\n",
       "      <td>notetaking bingo will they pull out an 2 or a ...</td>\n",
       "      <td>1807</td>\n",
       "      <td>0.0</td>\n",
       "      <td>SXSW</td>\n",
       "    </tr>\n",
       "    <tr>\n",
       "      <th>1808</th>\n",
       "      <td>1906</td>\n",
       "      <td>packing bag for not taking dell laptop sorry r...</td>\n",
       "      <td>1808</td>\n",
       "      <td>0.0</td>\n",
       "      <td>sxsw</td>\n",
       "    </tr>\n",
       "    <tr>\n",
       "      <th>1809</th>\n",
       "      <td>615</td>\n",
       "      <td>to hawk 2 at festival popup by</td>\n",
       "      <td>1809</td>\n",
       "      <td>0.0</td>\n",
       "      <td>Apple SXSW</td>\n",
       "    </tr>\n",
       "    <tr>\n",
       "      <th>1810</th>\n",
       "      <td>3765</td>\n",
       "      <td>hey ask dennis why no</td>\n",
       "      <td>1810</td>\n",
       "      <td>0.0</td>\n",
       "      <td>SXSW checkins</td>\n",
       "    </tr>\n",
       "    <tr>\n",
       "      <th>1811</th>\n",
       "      <td>5719</td>\n",
       "      <td>find where is playing at on the for we got u</td>\n",
       "      <td>1811</td>\n",
       "      <td>0.0</td>\n",
       "      <td>SXSW eventseekr</td>\n",
       "    </tr>\n",
       "    <tr>\n",
       "      <th>1812</th>\n",
       "      <td>1836</td>\n",
       "      <td>it not a rumor is opening up a temporary downt...</td>\n",
       "      <td>1812</td>\n",
       "      <td>0.0</td>\n",
       "      <td>SXSW</td>\n",
       "    </tr>\n",
       "    <tr>\n",
       "      <th>1813</th>\n",
       "      <td>7614</td>\n",
       "      <td>coming 2 for quot before it even begin win on</td>\n",
       "      <td>1813</td>\n",
       "      <td>0.0</td>\n",
       "      <td>SXSW</td>\n",
       "    </tr>\n",
       "    <tr>\n",
       "      <th>1814</th>\n",
       "      <td>1550</td>\n",
       "      <td>hmmm ... .how fast can build a new time for</td>\n",
       "      <td>1814</td>\n",
       "      <td>0.0</td>\n",
       "      <td>apple sxsw</td>\n",
       "    </tr>\n",
       "    <tr>\n",
       "      <th>1815</th>\n",
       "      <td>1933</td>\n",
       "      <td>galaxy ii appears at fcc and team party via</td>\n",
       "      <td>1815</td>\n",
       "      <td>0.0</td>\n",
       "      <td>SXSW</td>\n",
       "    </tr>\n",
       "    <tr>\n",
       "      <th>1816</th>\n",
       "      <td>9052</td>\n",
       "      <td>you could buy a new 2 tmrw at the pop-up at</td>\n",
       "      <td>1816</td>\n",
       "      <td>0.0</td>\n",
       "      <td>sxsw</td>\n",
       "    </tr>\n",
       "    <tr>\n",
       "      <th>1817</th>\n",
       "      <td>4219</td>\n",
       "      <td>wow very long queue of people at pop up now so...</td>\n",
       "      <td>1817</td>\n",
       "      <td>0.0</td>\n",
       "      <td>sxsw NokiaConnects</td>\n",
       "    </tr>\n",
       "    <tr>\n",
       "      <th>1818</th>\n",
       "      <td>7210</td>\n",
       "      <td>privacy could headline reveal later today network</td>\n",
       "      <td>1818</td>\n",
       "      <td>0.0</td>\n",
       "      <td>ACLU GoogleCircles SXSW</td>\n",
       "    </tr>\n",
       "  </tbody>\n",
       "</table>\n",
       "<p>1819 rows × 5 columns</p>\n",
       "</div>"
      ],
      "text/plain": [
       "      tweet_id                                     tokenized_text  Unnamed: 0  \\\n",
       "0         7506  audience q what prototyping tool do you use sk...           0   \n",
       "1         7992                           at send your best to ...           1   \n",
       "2          247         and here a pic of you winning your cc cont           2   \n",
       "3         7688  marissa mayer phone a a cursor of physical loc...           3   \n",
       "4         3294                      is even cooler than i thought           4   \n",
       "5         6125                       front of popup at last night           5   \n",
       "6         6131  my next life i 'm coming back a an 2. woman ca...           6   \n",
       "7         4134                        celebrating pi day style at           7   \n",
       "8         8206  hmmm is it a bit weird that is not tending but...           8   \n",
       "9         8552  to 'circles later today at got ta love one pla...           9   \n",
       "10        1634  thank you all for retweeting me about the re t...          10   \n",
       "11        4256                  well.. i 'm first 10.5 hour to go          11   \n",
       "12        4921  z1 dawn of the dead code valid 12:00-3:59:59p ...          12   \n",
       "13        1694  with listening to and talk about website ranki...          13   \n",
       "14        4193  hearing all sort of conflicting report about l...          14   \n",
       "15        7682  the is celebrating with pecan and strawberry r...          15   \n",
       "16        8151  is getting it own the geek cried yes the 2 is ...          16   \n",
       "17        1274  ha two store but until this week no downtown p...          17   \n",
       "18        5868  to major new called gt update no preview plann...          18   \n",
       "19        3327  and teamed up 4 showdown at w/ 14 team of maki...          19   \n",
       "20          12  ups the game just time for http //j.mp/grn7pk ...          20   \n",
       "21        5839  launch people finder service after earthquake ...          21   \n",
       "22        5562  best thing i 've heard this weekend at quot i ...          22   \n",
       "23        2959  wew new for now the includes uberguide to spon...          23   \n",
       "24        8940  leaving excellent panel from on writing compel...          24   \n",
       "25        1995  wa he standing talented ... eww lol just saw a...          25   \n",
       "26         607  ha an something called place with hotpot that ...          26   \n",
       "27        7364  opening a temporary downtown to sell ipads dur...          27   \n",
       "28        8167  hanging out with at the industry party ... goo...          28   \n",
       "29         681                      rockin an 2 from the downtown          29   \n",
       "...        ...                                                ...         ...   \n",
       "1789      3798  woman on plane next to me ha a nook curve and ...        1789   \n",
       "1790      2587      taking the 2 plunge at the pop-up on congress        1790   \n",
       "1791      6709     temp is killing it selling out early every day        1791   \n",
       "1792      1731  who at that can a 64gb 2 with 3g i 'll paypal ...        1792   \n",
       "1793      8690                              popup still the block        1793   \n",
       "1794       788  to major new called possibly today gt gt shoul...        1794   \n",
       "1795      3874  is talking about how phone earth is empowering...        1795   \n",
       "1796      8575   my story on schooling the exec at with it pop-up        1796   \n",
       "1797      8243  happy that i won an 2 at but wishing i had it ...        1797   \n",
       "1798       610  what if i have bb discriminatory p we 're offi...        1798   \n",
       "1799      4876  excited to tell y'all about the wonder of toda...        1799   \n",
       "1800      2805  quot and are our biggest competitors. quot sai...        1800   \n",
       "1801      4884  two-factor auth is awesome when you 're using ...        1801   \n",
       "1802      5194  quot the name wa built on getting thing out th...        1802   \n",
       "1803      2077                                  police guard 2 at        1803   \n",
       "1804      8244  sitting at ihop drooling over the it doe every...        1804   \n",
       "1805      1782                  the 2 is all the buzz at 2011 via        1805   \n",
       "1806      8177                 jaysis whoa at the pop up downtown        1806   \n",
       "1807      3223  notetaking bingo will they pull out an 2 or a ...        1807   \n",
       "1808      1906  packing bag for not taking dell laptop sorry r...        1808   \n",
       "1809       615                     to hawk 2 at festival popup by        1809   \n",
       "1810      3765                              hey ask dennis why no        1810   \n",
       "1811      5719       find where is playing at on the for we got u        1811   \n",
       "1812      1836  it not a rumor is opening up a temporary downt...        1812   \n",
       "1813      7614      coming 2 for quot before it even begin win on        1813   \n",
       "1814      1550        hmmm ... .how fast can build a new time for        1814   \n",
       "1815      1933        galaxy ii appears at fcc and team party via        1815   \n",
       "1816      9052        you could buy a new 2 tmrw at the pop-up at        1816   \n",
       "1817      4219  wow very long queue of people at pop up now so...        1817   \n",
       "1818      7210  privacy could headline reveal later today network        1818   \n",
       "\n",
       "        0                                           hashtags  \n",
       "0     0.0                                   myprototype sxsw  \n",
       "1     0.0  citizen_journalism cnn ireport photography sxs...  \n",
       "2     0.0                                         unsix sxsw  \n",
       "3     0.0                                               sxsw  \n",
       "4     0.0                                               SXSW  \n",
       "5     0.0                                               SXSW  \n",
       "6     0.0                                               SXSW  \n",
       "7     0.0                                               SXSW  \n",
       "8     0.0                                               sxsw  \n",
       "9     0.0                                          SXSW SXSW  \n",
       "10    0.0                                               sxsw  \n",
       "11    0.0                             iPad Apple SXSW sleepy  \n",
       "12    0.0                                   infektd sxsw zlf  \n",
       "13    0.0                        qagb sxswi sxsw google bing  \n",
       "14    0.0                                               SXSW  \n",
       "15    0.0                          CNNGrill piday SXSW SXSWI  \n",
       "16    0.0                                               sxsw  \n",
       "17    0.0                                        sxsw pcbuzz  \n",
       "18    0.0                                       Circles SXSW  \n",
       "19    0.0                                     SXSW bots gsdm  \n",
       "20    0.0                                               SXSW  \n",
       "21    0.0                                   WSsxsw sxsw scrm  \n",
       "22    0.0                                         SXSW Japan  \n",
       "23    0.0                             UberSocial iPhone SXSW  \n",
       "24    0.0                                               SXSW  \n",
       "25    0.0                                               sxsw  \n",
       "26    0.0                                               SxSW  \n",
       "27    0.0                                               sxsw  \n",
       "28    0.0                                 madmen google sxsw  \n",
       "29    0.0                                         SXSW apple  \n",
       "...   ...                                                ...  \n",
       "1789  0.0                                               sxsw  \n",
       "1790  0.0                         iPad SXSW keepingupwithDKM  \n",
       "1791  0.0                                               sxsw  \n",
       "1792  0.0                                               sxsw  \n",
       "1793  0.0                                               sxsw  \n",
       "1794  0.0                                               sxsw  \n",
       "1795  0.0                                               SXSW  \n",
       "1796  0.0                                         SXSW iPad2  \n",
       "1797  0.0                  drupalcon firstworldproblems sxsw  \n",
       "1798  0.0                                               SXSW  \n",
       "1799  0.0                                               sxsw  \n",
       "1800  0.0                                  4sq sxsw eurosxsw  \n",
       "1801  0.0                                               SXSW  \n",
       "1802  0.0                                               sxsw  \n",
       "1803  0.0                                          sxsw iPad  \n",
       "1804  0.0                                               sxsw  \n",
       "1805  0.0       SXSW apple tablet marketing advertising ipod  \n",
       "1806  0.0                                               sxsw  \n",
       "1807  0.0                                               SXSW  \n",
       "1808  0.0                                               sxsw  \n",
       "1809  0.0                                         Apple SXSW  \n",
       "1810  0.0                                      SXSW checkins  \n",
       "1811  0.0                                    SXSW eventseekr  \n",
       "1812  0.0                                               SXSW  \n",
       "1813  0.0                                               SXSW  \n",
       "1814  0.0                                         apple sxsw  \n",
       "1815  0.0                                               SXSW  \n",
       "1816  0.0                                               sxsw  \n",
       "1817  0.0                                 sxsw NokiaConnects  \n",
       "1818  0.0                            ACLU GoogleCircles SXSW  \n",
       "\n",
       "[1819 rows x 5 columns]"
      ]
     },
     "execution_count": 56,
     "metadata": {},
     "output_type": "execute_result"
    }
   ],
   "source": [
    "test_new"
   ]
  },
  {
   "cell_type": "code",
   "execution_count": null,
   "metadata": {},
   "outputs": [],
   "source": []
  },
  {
   "cell_type": "code",
   "execution_count": null,
   "metadata": {},
   "outputs": [],
   "source": []
  },
  {
   "cell_type": "code",
   "execution_count": null,
   "metadata": {},
   "outputs": [],
   "source": []
  },
  {
   "cell_type": "code",
   "execution_count": 57,
   "metadata": {},
   "outputs": [],
   "source": [
    "#Drop null values from test\n",
    "test_new = test_new.replace(np.nan, '')"
   ]
  },
  {
   "cell_type": "code",
   "execution_count": 58,
   "metadata": {},
   "outputs": [],
   "source": [
    "#Vectorize test\n",
    "vector_test = cv.transform(test_new['tokenized_text'])\n",
    "X_test_clean = vector_test.toarray()"
   ]
  },
  {
   "cell_type": "code",
   "execution_count": 59,
   "metadata": {},
   "outputs": [],
   "source": [
    "X_test_clean = pd.DataFrame(X_test_clean)"
   ]
  },
  {
   "cell_type": "code",
   "execution_count": 60,
   "metadata": {},
   "outputs": [],
   "source": [
    "X_test_clean['afinn_score'] = test_new['0']"
   ]
  },
  {
   "cell_type": "code",
   "execution_count": 61,
   "metadata": {},
   "outputs": [
    {
     "data": {
      "text/plain": [
       " 0.0    1783\n",
       " 4.0      11\n",
       " 1.0       8\n",
       "-2.0       8\n",
       " 2.0       6\n",
       "-1.0       2\n",
       " 3.0       1\n",
       "Name: afinn_score, dtype: int64"
      ]
     },
     "execution_count": 61,
     "metadata": {},
     "output_type": "execute_result"
    }
   ],
   "source": [
    "X_test_clean['afinn_score'].value_counts()"
   ]
  },
  {
   "cell_type": "code",
   "execution_count": null,
   "metadata": {},
   "outputs": [],
   "source": []
  },
  {
   "cell_type": "code",
   "execution_count": 62,
   "metadata": {},
   "outputs": [],
   "source": [
    "#Make prediction using X_test\n",
    "y_test_svc = voting_clf_soft.predict(X_test_clean)"
   ]
  },
  {
   "cell_type": "code",
   "execution_count": 63,
   "metadata": {},
   "outputs": [
    {
     "name": "stdout",
     "output_type": "stream",
     "text": [
      "      tweet_id  sentiment\n",
      "0         7506          1\n",
      "1         7992          1\n",
      "2          247          1\n",
      "3         7688          2\n",
      "4         3294          2\n",
      "5         6125          1\n",
      "6         6131          2\n",
      "7         4134          1\n",
      "8         8206          1\n",
      "9         8552          1\n",
      "10        1634          1\n",
      "11        4256          2\n",
      "12        4921          1\n",
      "13        1694          1\n",
      "14        4193          1\n",
      "15        7682          2\n",
      "16        8151          2\n",
      "17        1274          1\n",
      "18        5868          1\n",
      "19        3327          1\n",
      "20          12          1\n",
      "21        5839          1\n",
      "22        5562          1\n",
      "23        2959          1\n",
      "24        8940          1\n",
      "25        1995          1\n",
      "26         607          2\n",
      "27        7364          2\n",
      "28        8167          2\n",
      "29         681          1\n",
      "...        ...        ...\n",
      "1789      3798          1\n",
      "1790      2587          1\n",
      "1791      6709          2\n",
      "1792      1731          1\n",
      "1793      8690          1\n",
      "1794       788          1\n",
      "1795      3874          1\n",
      "1796      8575          1\n",
      "1797      8243          2\n",
      "1798       610          2\n",
      "1799      4876          1\n",
      "1800      2805          1\n",
      "1801      4884          2\n",
      "1802      5194          1\n",
      "1803      2077          1\n",
      "1804      8244          1\n",
      "1805      1782          1\n",
      "1806      8177          1\n",
      "1807      3223          1\n",
      "1808      1906          1\n",
      "1809       615          1\n",
      "1810      3765          1\n",
      "1811      5719          2\n",
      "1812      1836          1\n",
      "1813      7614          2\n",
      "1814      1550          2\n",
      "1815      1933          1\n",
      "1816      9052          1\n",
      "1817      4219          2\n",
      "1818      7210          1\n",
      "\n",
      "[1819 rows x 2 columns]\n"
     ]
    }
   ],
   "source": [
    "#Combine ID and validation Pred\n",
    "ID = pd.DataFrame(test['tweet_id'], columns =['tweet_id'])\n",
    "sentiment = pd.DataFrame(y_test_svc, columns = ['sentiment'])\n",
    "submission = ID.join(sentiment)\n",
    "print(submission)"
   ]
  },
  {
   "cell_type": "code",
   "execution_count": 64,
   "metadata": {},
   "outputs": [],
   "source": [
    "#Save submission\n",
    "submission.to_csv('submission voting.csv', index = False)"
   ]
  },
  {
   "cell_type": "code",
   "execution_count": null,
   "metadata": {},
   "outputs": [],
   "source": []
  }
 ],
 "metadata": {
  "kernelspec": {
   "display_name": "Python 3",
   "language": "python",
   "name": "python3"
  },
  "language_info": {
   "codemirror_mode": {
    "name": "ipython",
    "version": 3
   },
   "file_extension": ".py",
   "mimetype": "text/x-python",
   "name": "python",
   "nbconvert_exporter": "python",
   "pygments_lexer": "ipython3",
   "version": "3.7.3"
  }
 },
 "nbformat": 4,
 "nbformat_minor": 2
}
